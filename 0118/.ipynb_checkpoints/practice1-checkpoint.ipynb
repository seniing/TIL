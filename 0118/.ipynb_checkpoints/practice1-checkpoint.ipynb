{
 "cells": [
  {
   "cell_type": "markdown",
   "metadata": {},
   "source": [
    "# Practice 1\n",
    "\n",
    "> 데이터 & 제어문"
   ]
  },
  {
   "cell_type": "markdown",
   "metadata": {},
   "source": [
    "## 갯수 구하기\n",
    "\n",
    "> 주어진 리스트의 요소는 학생 이름으로 구성되어 있다. 학생들의 수를 출력하시오.\n",
    "\n",
    "---\n",
    "\n",
    "```\n",
    "[출력 예시]\n",
    "3\n",
    "```"
   ]
  },
  {
   "cell_type": "code",
   "execution_count": 20,
   "metadata": {
    "ExecuteTime": {
     "end_time": "2020-07-20T07:21:43.556594Z",
     "start_time": "2020-07-20T07:21:43.553351Z"
    },
    "scrolled": true
   },
   "outputs": [
    {
     "name": "stdout",
     "output_type": "stream",
     "text": [
      "3\n"
     ]
    }
   ],
   "source": [
    "students = ['김철수', '이영희', '조민지']\n",
    "\n",
    "print(len(students))"
   ]
  },
  {
   "cell_type": "code",
   "execution_count": 21,
   "metadata": {},
   "outputs": [
    {
     "name": "stdout",
     "output_type": "stream",
     "text": [
      "3\n"
     ]
    }
   ],
   "source": [
    "students = ['김철수', '이영희', '조민지']\n",
    "\n",
    "len_list = 0\n",
    "for i in students:\n",
    "    len_list += 1\n",
    "    \n",
    "print(len_list)"
   ]
  },
  {
   "cell_type": "markdown",
   "metadata": {},
   "source": [
    "## 득표수 구하기\n",
    "\n",
    "> 주어진 리스트는 반장 선거 투표 결과이다. 이영희의 총 득표수를 출력하시오.\n",
    "\n",
    "---\n",
    "\n",
    "```\n",
    "[출력 예시]\n",
    "4\n",
    "```"
   ]
  },
  {
   "cell_type": "code",
   "execution_count": 22,
   "metadata": {},
   "outputs": [
    {
     "name": "stdout",
     "output_type": "stream",
     "text": [
      "4\n"
     ]
    }
   ],
   "source": [
    "students = ['이영희', '김철수', '이영희', '조민지', '김철수', '조민지', '이영희', '이영희']\n",
    "\n",
    "votes = 0\n",
    "\n",
    "for i in students:\n",
    "    if i == '이영희':\n",
    "        votes += 1\n",
    "    else:\n",
    "        votes += 0\n",
    "\n",
    "print(votes)"
   ]
  },
  {
   "cell_type": "markdown",
   "metadata": {},
   "source": [
    "## 최댓값 구하기\n",
    "\n",
    "> 주어진 리스트의 요소 중에서 최댓값을 출력하시오.\n",
    "\n",
    "---\n",
    "```\n",
    "[출력 예시]\n",
    "22\n",
    "```"
   ]
  },
  {
   "cell_type": "code",
   "execution_count": 144,
   "metadata": {},
   "outputs": [
    {
     "name": "stdout",
     "output_type": "stream",
     "text": [
      "22\n"
     ]
    }
   ],
   "source": [
    "numbers = [7, 10, 22, 4, 3, 17]\n",
    "\n",
    "mx = numbers[0]\n",
    "\n",
    "for i in numbers:\n",
    "    if i > mx:\n",
    "        mx = i\n",
    "    else:\n",
    "        mx = mx\n",
    "\n",
    "print(mx)"
   ]
  },
  {
   "cell_type": "code",
   "execution_count": 191,
   "metadata": {},
   "outputs": [
    {
     "name": "stdout",
     "output_type": "stream",
     "text": [
      "22\n"
     ]
    }
   ],
   "source": [
    "numbers = [7, 10, 22, 4, 3, 17]\n",
    "\n",
    "del max\n",
    "print(max(numbers))"
   ]
  },
  {
   "cell_type": "markdown",
   "metadata": {},
   "source": [
    "## 최솟값 구하기\n",
    "\n",
    "> 주어진 리스트의 요소 중에서 최솟값을 출력하시오.\n",
    "---\n",
    "```\n",
    "[출력 예시]\n",
    "3\n",
    "```"
   ]
  },
  {
   "cell_type": "code",
   "execution_count": 181,
   "metadata": {},
   "outputs": [
    {
     "name": "stdout",
     "output_type": "stream",
     "text": [
      "3\n"
     ]
    }
   ],
   "source": [
    "numbers = [7, 10, 22, 4, 3, 17]\n",
    "\n",
    "\n",
    "mn = numbers[0]\n",
    "\n",
    "for i in numbers:\n",
    "    if i < mn:\n",
    "        mn = i\n",
    "    else:\n",
    "        mn = mn\n",
    "\n",
    "print(mn)"
   ]
  },
  {
   "cell_type": "code",
   "execution_count": 192,
   "metadata": {},
   "outputs": [
    {
     "name": "stdout",
     "output_type": "stream",
     "text": [
      "3\n"
     ]
    }
   ],
   "source": [
    "numbers = [7, 10, 22, 4, 3, 17]\n",
    "\n",
    "del min\n",
    "print(min(numbers))"
   ]
  },
  {
   "cell_type": "markdown",
   "metadata": {},
   "source": [
    "## 최댓값과 등장 횟수 구하기\n",
    "\n",
    "> 주어진 리스트의 요소 중에서 최댓값과 등장 횟수를 출력하시오.\n",
    "\n",
    "---\n",
    "\n",
    "```\n",
    "[출력 예시]\n",
    "22 3\n",
    "```"
   ]
  },
  {
   "cell_type": "code",
   "execution_count": 3,
   "metadata": {
    "ExecuteTime": {
     "end_time": "2020-07-20T07:14:08.319167Z",
     "start_time": "2020-07-20T07:14:08.316606Z"
    }
   },
   "outputs": [
    {
     "name": "stdout",
     "output_type": "stream",
     "text": [
      "22 3\n"
     ]
    }
   ],
   "source": [
    "numbers = [7, 10, 22, 7, 22, 22]\n",
    "\n",
    "mx = numbers[0]\n",
    "count = 0\n",
    "\n",
    "for i in numbers:\n",
    "    if i > mx:\n",
    "        mx = i\n",
    "    else:\n",
    "        mx = mx\n",
    "\n",
    "for i in numbers:\n",
    "    if i == mx:\n",
    "        count += 1\n",
    "    \n",
    "print(mx, count)"
   ]
  },
  {
   "cell_type": "markdown",
   "metadata": {},
   "source": [
    "## 5의 개수 구하기\n",
    "\n",
    "> 주어진 리스트의 요소 중에서 5의 개수를 출력하시오.\n",
    "---\n",
    "```\n",
    "[출력 예시]\n",
    "3\n",
    "```"
   ]
  },
  {
   "cell_type": "code",
   "execution_count": 162,
   "metadata": {},
   "outputs": [
    {
     "name": "stdout",
     "output_type": "stream",
     "text": [
      "3\n"
     ]
    }
   ],
   "source": [
    "numbers = [7, 17, 10, 5, 4, 3, 17, 5, 2, 5]\n",
    "\n",
    "count = 0\n",
    "\n",
    "for i in numbers:\n",
    "    if i == 5:\n",
    "        count += 1\n",
    "    else :\n",
    "        count += 0\n",
    "        \n",
    "print(count)"
   ]
  },
  {
   "cell_type": "code",
   "execution_count": 159,
   "metadata": {},
   "outputs": [
    {
     "name": "stdout",
     "output_type": "stream",
     "text": [
      "{7: 1, 17: 2, 10: 1, 5: 3, 4: 1, 3: 1, 2: 1}\n",
      "3\n"
     ]
    }
   ],
   "source": [
    "numbers = [7, 17, 10, 5, 4, 3, 17, 5, 2, 5]\n",
    "\n",
    "d = {}\n",
    "\n",
    "for n in numbers:\n",
    "    if n in d:\n",
    "        d[n] += 1\n",
    "    else:\n",
    "        d[n] = 1\n",
    "\n",
    "print(d)\n",
    "print(d[5])"
   ]
  },
  {
   "cell_type": "markdown",
   "metadata": {},
   "source": [
    "## 'a'가 싫어\n",
    "\n",
    "\n",
    "> 입력으로 짧은 영단어 word가 주어질 때, 해당 단어에서 'a'를 모두 제거한 결과를 출력하시오.\n",
    "\n",
    "---\n",
    "```\n",
    "[입력 예시]\n",
    "apple\n",
    "\n",
    "[출력 예시]\n",
    "pple\n",
    "```"
   ]
  },
  {
   "cell_type": "code",
   "execution_count": 165,
   "metadata": {},
   "outputs": [
    {
     "name": "stdout",
     "output_type": "stream",
     "text": [
      "apple\n",
      "pple\n"
     ]
    }
   ],
   "source": [
    "word = input()\n",
    "\n",
    "word2 = ''\n",
    "\n",
    "for i in word:\n",
    "    if i != 'a':\n",
    "        word2 += i\n",
    "\n",
    "print(word2)"
   ]
  },
  {
   "cell_type": "markdown",
   "metadata": {},
   "source": [
    "## 단어 뒤집기\n",
    "\n",
    "> 입력으로 짧은 영어단어 word가 주어질 때, 해당 단어를 역순으로 뒤집은 결과를 출력하시오.\n",
    "\n",
    "---\n",
    "```\n",
    "[입력 예시]\n",
    "apple\n",
    "\n",
    "[출력 예시]\n",
    "elppa\n",
    "```"
   ]
  },
  {
   "cell_type": "code",
   "execution_count": 16,
   "metadata": {},
   "outputs": [
    {
     "name": "stdout",
     "output_type": "stream",
     "text": [
      "apple\n",
      "elppa\n"
     ]
    }
   ],
   "source": [
    "word = input()\n",
    "\n",
    "word2 = word[::-1]\n",
    "print(word2)"
   ]
  },
  {
   "cell_type": "code",
   "execution_count": 186,
   "metadata": {},
   "outputs": [
    {
     "name": "stdout",
     "output_type": "stream",
     "text": [
      "apple\n",
      "elppa\n"
     ]
    }
   ],
   "source": [
    "word = input()\n",
    "\n",
    "word_reverse = ''\n",
    "for i in word:\n",
    "    word_reverse = i + word_reverse\n",
    "\n",
    "\n",
    "print(word_reverse)"
   ]
  },
  {
   "cell_type": "markdown",
   "metadata": {},
   "source": [
    "## 소수 찾기\n",
    "> 조건, 반복문을 응용하여 numbers 리스트의 요소들이 소수인지 아닌지 판단하는 코드를 작성하라\n",
    "---\n",
    "numbers = [26, 39, 51, 53, 57, 79, 85]\n",
    "\n",
    "[출력 예시]\n",
    "\n",
    "26 는 소수가 아닙니다. 2 는 26 의 인수입니다.\n",
    "\n",
    "39 는 소수가 아닙니다. 3 는 39 의 인수입니다.\n",
    "\n",
    "51 는 소수가 아닙니다. 3 는 51 의 인수입니다.\n",
    "\n",
    "53 는 소수입니다.\n",
    "\n",
    "57 는 소수가 아닙니다. 3 는 57 의 인수입니다.\n",
    "\n",
    "79 는 소수입니다.\n",
    "\n",
    "85 는 소수가 아닙니다. 5 는 85 의 인수입니다."
   ]
  },
  {
   "cell_type": "code",
   "execution_count": 200,
   "metadata": {},
   "outputs": [
    {
     "name": "stdout",
     "output_type": "stream",
     "text": [
      "26는 소수가 아닙니다. 2는 26의 인수입니다.\n",
      "39는 소수가 아닙니다. 3는 39의 인수입니다.\n",
      "51는 소수가 아닙니다. 3는 51의 인수입니다.\n",
      "53는 소수입니다.\n",
      "57는 소수가 아닙니다. 3는 57의 인수입니다.\n",
      "79는 소수입니다.\n",
      "85는 소수가 아닙니다. 5는 85의 인수입니다.\n"
     ]
    }
   ],
   "source": [
    "numbers = [26, 39, 51, 53, 57, 79, 85]\n",
    "\n",
    "for i in numbers:\n",
    "    for j in range(2, i):\n",
    "        if i % j == 0:\n",
    "            print(f'{i}는 소수가 아닙니다. {j}는 {i}의 인수입니다.')\n",
    "            break\n",
    "    \n",
    "    else:\n",
    "        print(f'{i}는 소수입니다.')\n"
   ]
  },
  {
   "cell_type": "code",
   "execution_count": 202,
   "metadata": {},
   "outputs": [
    {
     "name": "stdout",
     "output_type": "stream",
     "text": [
      "26는 소수가 아닙니다. 2는 26의 인수입니다.\n",
      "39는 소수가 아닙니다. 3는 39의 인수입니다.\n",
      "51는 소수가 아닙니다. 3는 51의 인수입니다.\n",
      "53는 소수입니다.\n",
      "57는 소수가 아닙니다. 3는 57의 인수입니다.\n",
      "79는 소수입니다.\n",
      "85는 소수가 아닙니다. 5는 85의 인수입니다.\n"
     ]
    }
   ],
   "source": [
    "numbers = [26, 39, 51, 53, 57, 79, 85]\n",
    "\n",
    "for number in numbers:\n",
    "    flag = True\n",
    "    div = 0\n",
    "    for j in range(2,number):\n",
    "        if number % j == 0:\n",
    "            div = j\n",
    "            flag = False\n",
    "            break\n",
    "    if flag:\n",
    "        print(f'{number}는 소수입니다.')\n",
    "    else:\n",
    "        print(f'{number}는 소수가 아닙니다. {div}는 {number}의 인수입니다.')"
   ]
  },
  {
   "cell_type": "markdown",
   "metadata": {},
   "source": [
    "## 과일 찾기\n",
    "> 장바구니에 아래와 같은 과일이 들어있고 과일 판별 리스트가 있습니다. 현재 장바구니에는 과일이 몇 개이고 과일이 아닌 것은 몇 개인지 출력 하시오.\n",
    "---\n",
    "\n",
    "basket_items = {'apples': 4, 'oranges': 19, 'kites': 3, 'sandwiches': 8}\n",
    "\n",
    "fruits = ['apples', 'oranges', 'pears', 'peaches', 'grapes', 'bananas']\n",
    "\n",
    "[출력 예시]\n",
    "\n",
    "과일은 23개이고, 11개는 과일이 아닙니다."
   ]
  },
  {
   "cell_type": "code",
   "execution_count": 203,
   "metadata": {},
   "outputs": [
    {
     "name": "stdout",
     "output_type": "stream",
     "text": [
      "과일은 23개이고, 11개는 과일이 아닙니다.\n"
     ]
    }
   ],
   "source": [
    "basket_items = {'apples': 4, 'oranges': 19, 'kites': 3, 'sandwiches': 8}\n",
    "fruits = ['apples', 'oranges', 'pears', 'peaches', 'grapes', 'bananas']\n",
    "\n",
    "fruit = 0\n",
    "others = 0\n",
    "\n",
    "for item in basket_items:\n",
    "    if item in fruits:\n",
    "        fruit += basket_items[item]\n",
    "    else:\n",
    "        others += basket_items[item]\n",
    "\n",
    "print(f'과일은 {fruit}개이고, {others}개는 과일이 아닙니다.')"
   ]
  }
 ],
 "metadata": {
  "kernelspec": {
   "display_name": "Python 3 (ipykernel)",
   "language": "python",
   "name": "python3"
  },
  "language_info": {
   "codemirror_mode": {
    "name": "ipython",
    "version": 3
   },
   "file_extension": ".py",
   "mimetype": "text/x-python",
   "name": "python",
   "nbconvert_exporter": "python",
   "pygments_lexer": "ipython3",
   "version": "3.9.9"
  },
  "toc": {
   "base_numbering": 1,
   "nav_menu": {},
   "number_sections": true,
   "sideBar": true,
   "skip_h1_title": false,
   "title_cell": "Table of Contents",
   "title_sidebar": "Contents",
   "toc_cell": false,
   "toc_position": {},
   "toc_section_display": true,
   "toc_window_display": false
  }
 },
 "nbformat": 4,
 "nbformat_minor": 4
}
